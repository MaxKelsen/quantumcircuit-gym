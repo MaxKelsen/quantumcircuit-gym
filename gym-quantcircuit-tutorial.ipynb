{
 "cells": [
  {
   "cell_type": "markdown",
   "metadata": {},
   "source": [
    "# Gym-QuantCircuit Tutorial"
   ]
  },
  {
   "cell_type": "markdown",
   "metadata": {},
   "source": [
    "A step by step example of using the custom quantum circuit gym environment to create and visualise quantum circuits."
   ]
  },
  {
   "cell_type": "code",
   "execution_count": 1,
   "metadata": {},
   "outputs": [],
   "source": [
    "import gym\n",
    "import gym_quantcircuit\n",
    "import numpy as np"
   ]
  },
  {
   "cell_type": "markdown",
   "metadata": {},
   "source": [
    "### Creating a new environment"
   ]
  },
  {
   "cell_type": "markdown",
   "metadata": {},
   "source": [
    "The make method creates a completely blank environment that has no functionality yet."
   ]
  },
  {
   "cell_type": "code",
   "execution_count": 2,
   "metadata": {},
   "outputs": [],
   "source": [
    "env = gym.make('quantcircuit-v0')"
   ]
  },
  {
   "cell_type": "markdown",
   "metadata": {},
   "source": [
    "The environment has an extra initialisation method that allows it to take in arguments that help with customisation. These arguments include the number of desired qubits in the circuit, whether calculations are to be performed with unitary matrices or statevectors, the set of gates used, the physical connectivity of the qubits, and the goal statevector or unitary."
   ]
  },
  {
   "cell_type": "code",
   "execution_count": 3,
   "metadata": {},
   "outputs": [],
   "source": [
    "num_qubits = 3\n",
    "test_goal_state = [0j] * (2**num_qubits - 1) + [1+0j]"
   ]
  },
  {
   "cell_type": "code",
   "execution_count": 4,
   "metadata": {},
   "outputs": [],
   "source": [
    "env.var_init(num_qubits,\n",
    "             unitary=False,\n",
    "             gate_group='pauli',\n",
    "             connectivity='fully_connected',\n",
    "             goal_state=test_goal_state)"
   ]
  },
  {
   "cell_type": "markdown",
   "metadata": {},
   "source": [
    "The above line initialises the environment with a blank circuit with three qubits, using statevectors, using the pauli gate group, with a fully-connected physical architecture, and with a goal statevector of each qubit being flipped. This can be visualised with the following code."
   ]
  },
  {
   "cell_type": "code",
   "execution_count": 5,
   "metadata": {},
   "outputs": [
    {
     "data": {
      "text/html": [
       "<pre style=\"word-wrap: normal;white-space: pre;line-height: 15px;\">         \n",
       "q0_0: |0>\n",
       "         \n",
       "q0_1: |0>\n",
       "         \n",
       "q0_2: |0>\n",
       "         </pre>"
      ],
      "text/plain": [
       "<qiskit.tools.visualization._text.TextDrawing at 0x7f077d6d7470>"
      ]
     },
     "execution_count": 5,
     "metadata": {},
     "output_type": "execute_result"
    }
   ],
   "source": [
    "env.render()"
   ]
  },
  {
   "cell_type": "code",
   "execution_count": 6,
   "metadata": {},
   "outputs": [
    {
     "data": {
      "image/png": "[encoded data removed]",
      "text/plain": [
       "<Figure size 432x288 with 1 Axes>"
      ]
     },
     "metadata": {},
     "output_type": "display_data"
    }
   ],
   "source": [
    "env.plot_connectivity_graph()"
   ]
  },
  {
   "cell_type": "markdown",
   "metadata": {},
   "source": [
    "### Generating circuits"
   ]
  },
  {
   "cell_type": "markdown",
   "metadata": {},
   "source": [
    "Quantum circuits are generated in this environment with the process of sampling an action from the action space and then applying this sampled action. The action space is automatically created after the number of qubits, gate group, and connectivity are defined. All 'legal' combinations of gates and qubits are generated, and these actions can be sampled by generating an integer representation using .sample()."
   ]
  },
  {
   "cell_type": "code",
   "execution_count": 7,
   "metadata": {},
   "outputs": [
    {
     "data": {
      "text/plain": [
       "((2, 1),\n",
       " <bound method cx of <qiskit.circuit.quantumcircuit.QuantumCircuit object at 0x7f077d6d7518>>)"
      ]
     },
     "execution_count": 7,
     "metadata": {},
     "output_type": "execute_result"
    }
   ],
   "source": [
    "action = env.sample()\n",
    "env.gate_list[action]"
   ]
  },
  {
   "cell_type": "markdown",
   "metadata": {},
   "source": [
    "The above sampled action represents a CNOT gate with qubit 2 as the control, and qubit 1 as the target. This action can then be taken in the environment. Each action returns an observation of the current state, a reward signal, a boolean that signifies whether the circuit has reached its goal state or unitary, and the fidelity measure of the current state. The observation is provided as the difference between the goal state and the current state. The current reward is sparse, only being attained when the fidelity of the current and goal states rounds to 1 within three digits."
   ]
  },
  {
   "cell_type": "code",
   "execution_count": 8,
   "metadata": {},
   "outputs": [
    {
     "data": {
      "text/plain": [
       "(array([-1.,  0.,  0.,  0.,  0.,  0.,  0.,  1.,  0.,  0.,  0.,  0.,  0.,\n",
       "         0.,  0.,  0.]), 0, False, {'fidelity': 0.0})"
      ]
     },
     "execution_count": 8,
     "metadata": {},
     "output_type": "execute_result"
    }
   ],
   "source": [
    "env.step(action)"
   ]
  },
  {
   "cell_type": "markdown",
   "metadata": {},
   "source": [
    "This action can be visualised on the current circuit."
   ]
  },
  {
   "cell_type": "code",
   "execution_count": 9,
   "metadata": {},
   "outputs": [
    {
     "data": {
      "text/html": [
       "<pre style=\"word-wrap: normal;white-space: pre;line-height: 15px;\">              \n",
       "q0_0: |0>─────\n",
       "         ┌───┐\n",
       "q0_1: |0>┤ X ├\n",
       "         └─┬─┘\n",
       "q0_2: |0>──■──\n",
       "              </pre>"
      ],
      "text/plain": [
       "<qiskit.tools.visualization._text.TextDrawing at 0x7f077756cb00>"
      ]
     },
     "execution_count": 9,
     "metadata": {},
     "output_type": "execute_result"
    }
   ],
   "source": [
    "env.render()"
   ]
  },
  {
   "cell_type": "markdown",
   "metadata": {},
   "source": [
    "A larger circuit can be generated by looping over these actions and applications."
   ]
  },
  {
   "cell_type": "code",
   "execution_count": 10,
   "metadata": {},
   "outputs": [
    {
     "data": {
      "text/html": [
       "<pre style=\"word-wrap: normal;white-space: pre;line-height: 15px;\">                   ┌───┐┌───┐          \n",
       "q0_0: |0>──────────┤ X ├┤ H ├──■───────\n",
       "         ┌───┐┌───┐└───┘└───┘  │       \n",
       "q0_1: |0>┤ X ├┤ X ├────────────┼────■──\n",
       "         └─┬─┘└─┬─┘          ┌─┴─┐┌─┴─┐\n",
       "q0_2: |0>──■────■────────────┤ X ├┤ X ├\n",
       "                             └───┘└───┘</pre>"
      ],
      "text/plain": [
       "<qiskit.tools.visualization._text.TextDrawing at 0x7f077755aeb8>"
      ]
     },
     "execution_count": 10,
     "metadata": {},
     "output_type": "execute_result"
    }
   ],
   "source": [
    "for _ in range(5):\n",
    "    env.step(env.sample())\n",
    "env.render()"
   ]
  },
  {
   "cell_type": "markdown",
   "metadata": {},
   "source": [
    "Resetting the circuit clears any gates that have been applied, and resets the goal state/unitary back to the identity."
   ]
  },
  {
   "cell_type": "code",
   "execution_count": 11,
   "metadata": {},
   "outputs": [
    {
     "data": {
      "text/html": [
       "<pre style=\"word-wrap: normal;white-space: pre;line-height: 15px;\">         \n",
       "q0_0: |0>\n",
       "         \n",
       "q0_1: |0>\n",
       "         \n",
       "q0_2: |0>\n",
       "         </pre>"
      ],
      "text/plain": [
       "<qiskit.tools.visualization._text.TextDrawing at 0x7f0777585240>"
      ]
     },
     "execution_count": 11,
     "metadata": {},
     "output_type": "execute_result"
    }
   ],
   "source": [
    "env.reset()\n",
    "env.render()"
   ]
  },
  {
   "cell_type": "markdown",
   "metadata": {},
   "source": [
    "### Customisation options\n",
    "##### Gate groups\n",
    "Predefined gate groups include:\n",
    "1. Clifford\n",
    "    * String input: 'clifford'\n",
    "    * Gates: Identity (I), CNOT (CX), Hadamard (H), Phase (S), $\\pi$/8 (T) \n",
    "2. Pauli\n",
    "    * String input: 'pauli'\n",
    "    * Gates: Identity (I), Hadamard (H), X, Z, CNOT (CX)\n",
    "3. IQP (Instantaneous Quantum Polynomial)\n",
    "    * String input: 'IQP'\n",
    "    * Gates: Identity (I), $\\pi$/8 (T), Controlled S (CS)\n",
    "    \n",
    "A custom gate group can also be used by initialising the environment with the gate_group variable set to 'custom'. A list containing the desired gates as qiskit functions must then be passed to the set_gate_group method. The action space with the new custom gates must also be created."
   ]
  },
  {
   "cell_type": "code",
   "execution_count": 12,
   "metadata": {},
   "outputs": [],
   "source": [
    "# Environment must be created before this step\n",
    "\n",
    "custom_gate_group = [\n",
    "    env.qcircuit.x,\n",
    "    env.qcircuit.h,\n",
    "    env.qcircuit.t\n",
    "]\n",
    "\n",
    "env.set_gate_group('custom',custom_gate_group)\n",
    "\n",
    "env.gate_list = env._create_gates()"
   ]
  },
  {
   "cell_type": "code",
   "execution_count": 13,
   "metadata": {},
   "outputs": [
    {
     "data": {
      "text/plain": [
       "[((0,),\n",
       "  <bound method x of <qiskit.circuit.quantumcircuit.QuantumCircuit object at 0x7f07775852e8>>),\n",
       " ((1,),\n",
       "  <bound method x of <qiskit.circuit.quantumcircuit.QuantumCircuit object at 0x7f07775852e8>>),\n",
       " ((2,),\n",
       "  <bound method x of <qiskit.circuit.quantumcircuit.QuantumCircuit object at 0x7f07775852e8>>),\n",
       " ((0,),\n",
       "  <bound method h of <qiskit.circuit.quantumcircuit.QuantumCircuit object at 0x7f07775852e8>>),\n",
       " ((1,),\n",
       "  <bound method h of <qiskit.circuit.quantumcircuit.QuantumCircuit object at 0x7f07775852e8>>),\n",
       " ((2,),\n",
       "  <bound method h of <qiskit.circuit.quantumcircuit.QuantumCircuit object at 0x7f07775852e8>>),\n",
       " ((0,),\n",
       "  <bound method t of <qiskit.circuit.quantumcircuit.QuantumCircuit object at 0x7f07775852e8>>),\n",
       " ((1,),\n",
       "  <bound method t of <qiskit.circuit.quantumcircuit.QuantumCircuit object at 0x7f07775852e8>>),\n",
       " ((2,),\n",
       "  <bound method t of <qiskit.circuit.quantumcircuit.QuantumCircuit object at 0x7f07775852e8>>)]"
      ]
     },
     "execution_count": 13,
     "metadata": {},
     "output_type": "execute_result"
    }
   ],
   "source": [
    "env.gate_list"
   ]
  },
  {
   "cell_type": "markdown",
   "metadata": {},
   "source": [
    "##### Qubit Connectivity\n",
    "Three predefined options for qubit connectivity exist within the environment: nearest neighbour, fully connected, and connectivities based on IBMQ's architectures. A custom connectivity can also be used by passing in a binary connectivity array that defines connections between each pair of qubits."
   ]
  },
  {
   "cell_type": "code",
   "execution_count": 14,
   "metadata": {},
   "outputs": [
    {
     "data": {
      "image/png": "[encoded data removed]",
      "text/plain": [
       "<Figure size 432x288 with 1 Axes>"
      ]
     },
     "metadata": {},
     "output_type": "display_data"
    }
   ],
   "source": [
    "# Nearest neighbour\n",
    "nnenv = gym.make('quantcircuit-v0')\n",
    "nnenv.var_init(5,connectivity='nearest_neighbour')\n",
    "nnenv.plot_connectivity_graph()"
   ]
  },
  {
   "cell_type": "code",
   "execution_count": 15,
   "metadata": {},
   "outputs": [
    {
     "data": {
      "image/png": "[encoded data removed]",
      "text/plain": [
       "<Figure size 432x288 with 1 Axes>"
      ]
     },
     "metadata": {},
     "output_type": "display_data"
    }
   ],
   "source": [
    "# Fully Connected\n",
    "fc_env = gym.make('quantcircuit-v0')\n",
    "fc_env.var_init(5,connectivity='fully_connected')\n",
    "fc_env.plot_connectivity_graph()"
   ]
  },
  {
   "cell_type": "code",
   "execution_count": 16,
   "metadata": {},
   "outputs": [
    {
     "data": {
      "image/png": "[encoded data removed]",
      "text/plain": [
       "<Figure size 432x288 with 1 Axes>"
      ]
     },
     "metadata": {},
     "output_type": "display_data"
    }
   ],
   "source": [
    "# IBM - limited to 5, 14 or 20 qubits (these are the only current physical architectures)\n",
    "ibm_env = gym.make('quantcircuit-v0')\n",
    "ibm_env.var_init(5,connectivity='ibm')\n",
    "ibm_env.plot_connectivity_graph()"
   ]
  },
  {
   "cell_type": "code",
   "execution_count": 17,
   "metadata": {},
   "outputs": [
    {
     "data": {
      "image/png": "[encoded data removed]",
      "text/plain": [
       "<Figure size 432x288 with 1 Axes>"
      ]
     },
     "metadata": {},
     "output_type": "display_data"
    }
   ],
   "source": [
    "# Custom\n",
    "custom_conn = np.array([[1,1,1,0],[1,1,1,0],[1,1,1,1],[0,0,1,1]])\n",
    "custom_env = gym.make('quantcircuit-v0')\n",
    "custom_env.var_init(4,connectivity='custom',custom_connectivity=custom_conn)\n",
    "custom_env.plot_connectivity_graph()"
   ]
  },
  {
   "cell_type": "markdown",
   "metadata": {},
   "source": [
    "#### Generating goal curriculums\n",
    "An added feature of the environment is the ability to generate a curriculum of goals, that starts out with relatively 'easy' goal state or unitaries and gets progressively harder. "
   ]
  },
  {
   "cell_type": "code",
   "execution_count": 26,
   "metadata": {},
   "outputs": [],
   "source": [
    "num_gates = 2\n",
    "curriculum, tracker = env.make_curriculum(num_gates)"
   ]
  },
  {
   "cell_type": "markdown",
   "metadata": {},
   "source": [
    "Curriculum contains the goals generated using only single gates, and combinations of two different gates while tracker contains the number of each type of goal."
   ]
  },
  {
   "cell_type": "code",
   "execution_count": 27,
   "metadata": {},
   "outputs": [
    {
     "data": {
      "text/plain": [
       "[[(1+0j), 0j, 0j, 0j, 0j, 0j, 0j, 0j],\n",
       " [(0.7071+0j), (0.7071+0j), 0j, 0j, 0j, 0j, 0j, 0j],\n",
       " [(0.7071+0j), 0j, (0.7071+0j), 0j, 0j, 0j, 0j, 0j],\n",
       " [(0.7071+0j), 0j, 0j, 0j, (0.7071+0j), 0j, 0j, 0j],\n",
       " [0j, (1+0j), 0j, 0j, 0j, 0j, 0j, 0j],\n",
       " [0j, 0j, (1+0j), 0j, 0j, 0j, 0j, 0j],\n",
       " [0j, 0j, 0j, 0j, (1+0j), 0j, 0j, 0j],\n",
       " [(0.5+0j), (0.5+0j), (0.5+0j), (0.5+0j), 0j, 0j, 0j, 0j],\n",
       " [(0.5+0j), (0.5+0j), 0j, 0j, (0.5+0j), (0.5+0j), 0j, 0j],\n",
       " [0j, 0j, (0.7071+0j), (0.7071+0j), 0j, 0j, 0j, 0j],\n",
       " [0j, 0j, 0j, 0j, (0.7071+0j), (0.7071+0j), 0j, 0j],\n",
       " [(0.7071+0j), (-0.7071+0j), 0j, 0j, 0j, 0j, 0j, 0j],\n",
       " [(0.7071+0j), 0j, 0j, (0.7071+0j), 0j, 0j, 0j, 0j],\n",
       " [(0.7071+0j), 0j, 0j, 0j, 0j, (0.7071+0j), 0j, 0j],\n",
       " [(0.5+0j), 0j, (0.5+0j), 0j, (0.5+0j), 0j, (0.5+0j), 0j],\n",
       " [0j, (0.7071+0j), 0j, (0.7071+0j), 0j, 0j, 0j, 0j],\n",
       " [0j, 0j, 0j, 0j, (0.7071+0j), 0j, (0.7071+0j), 0j],\n",
       " [(0.7071+0j), 0j, (-0.7071+0j), 0j, 0j, 0j, 0j, 0j],\n",
       " [(0.7071+0j), 0j, 0j, 0j, 0j, 0j, (0.7071+0j), 0j],\n",
       " [0j, (0.7071+0j), 0j, 0j, 0j, (0.7071+0j), 0j, 0j],\n",
       " [0j, 0j, (0.7071+0j), 0j, 0j, 0j, (0.7071+0j), 0j],\n",
       " [(0.7071+0j), 0j, 0j, 0j, (-0.7071+0j), 0j, 0j, 0j],\n",
       " [0j, 0j, 0j, (1+0j), 0j, 0j, 0j, 0j],\n",
       " [0j, 0j, 0j, 0j, 0j, (1+0j), 0j, 0j],\n",
       " [0j, 0j, 0j, 0j, 0j, 0j, (1+0j), 0j]]"
      ]
     },
     "execution_count": 27,
     "metadata": {},
     "output_type": "execute_result"
    }
   ],
   "source": [
    "curriculum"
   ]
  },
  {
   "cell_type": "code",
   "execution_count": 28,
   "metadata": {},
   "outputs": [
    {
     "data": {
      "text/plain": [
       "[7, 18]"
      ]
     },
     "execution_count": 28,
     "metadata": {},
     "output_type": "execute_result"
    }
   ],
   "source": [
    "tracker"
   ]
  }
 ],
 "metadata": {
  "kernelspec": {
   "display_name": "Python 3",
   "language": "python",
   "name": "python3"
  },
  "language_info": {
   "codemirror_mode": {
    "name": "ipython",
    "version": 3
   },
   "file_extension": ".py",
   "mimetype": "text/x-python",
   "name": "python",
   "nbconvert_exporter": "python",
   "pygments_lexer": "ipython3",
   "version": "3.6.7"
  }
 },
 "nbformat": 4,
 "nbformat_minor": 2
}
